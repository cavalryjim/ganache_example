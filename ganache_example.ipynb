{
 "cells": [
  {
   "cell_type": "code",
   "execution_count": 1,
   "id": "430052d1",
   "metadata": {},
   "outputs": [
    {
     "name": "stdout",
     "output_type": "stream",
     "text": [
      "Connected to the local Ethereum (Ganche) network: True\n"
     ]
    }
   ],
   "source": [
    "from web3 import Web3\n",
    "import solcx\n",
    "\n",
    "# connect to the Ganache blockchain\n",
    "ganache_url = \"http://127.0.0.1:8545\"\n",
    "web3 = Web3(Web3.HTTPProvider(ganache_url))\n",
    "\n",
    "# check if the connection is successful\n",
    "print(f\"Connected to the local Ethereum (Ganche) network: {web3.is_connected()}\")"
   ]
  },
  {
   "cell_type": "code",
   "execution_count": 10,
   "id": "a2475490",
   "metadata": {},
   "outputs": [
    {
     "name": "stdout",
     "output_type": "stream",
     "text": [
      "Balance of account 0: 1000 Ether\n",
      "Transaction completed! The final hash is AttributeDict({'transactionHash': HexBytes('0xe1b9ef0d29bfcc43b78c1729897d4038753cd376be78c675763f5790e832221a'), 'transactionIndex': 0, 'blockNumber': 1, 'blockHash': HexBytes('0xb35ddae7471d4ea152e0214750f1cc344f48a40528cc4033ec2e0ed93ff090b0'), 'from': '0x0D1Ce335e6A84457f77842e5d22cFb2A0560D0Cf', 'to': '0x490F605AE8563E7a77F0DD9AB8545211c79319C5', 'cumulativeGasUsed': 21000, 'gasUsed': 21000, 'contractAddress': None, 'logs': [], 'logsBloom': HexBytes('0x00000000000000000000000000000000000000000000000000000000000000000000000000000000000000000000000000000000000000000000000000000000000000000000000000000000000000000000000000000000000000000000000000000000000000000000000000000000000000000000000000000000000000000000000000000000000000000000000000000000000000000000000000000000000000000000000000000000000000000000000000000000000000000000000000000000000000000000000000000000000000000000000000000000000000000000000000000000000000000000000000000000000000000000000000000000'), 'status': 1, 'effectiveGasPrice': 1107421875, 'type': 2})\n"
     ]
    }
   ],
   "source": [
    "# get the first account\n",
    "account = web3.eth.accounts[0]\n",
    "# print(account)\n",
    "\n",
    "# check the balance\n",
    "balance = web3.eth.get_balance(account)\n",
    "print(f\"Balance of account 0: {web3.from_wei(balance, 'ether')} Ether\")\n",
    "\n",
    "# send a transaction from one account to another\n",
    "tx_hash = web3.eth.send_transaction({\n",
    "    'from': web3.eth.accounts[0],\n",
    "    'to': web3.eth.accounts[1],\n",
    "    'value': web3.to_wei(1, 'ether')\n",
    "})\n",
    "\n",
    "# wait for the transaction to be mined\n",
    "f_hash = web3.eth.wait_for_transaction_receipt(tx_hash)\n",
    "print(F\"Transaction completed! The final hash is {f_hash}\")"
   ]
  },
  {
   "cell_type": "code",
   "execution_count": 4,
   "id": "79dd3bb0",
   "metadata": {},
   "outputs": [],
   "source": [
    "# basic Solidity contract\n",
    "contract_source_code = '''\n",
    "pragma solidity ^0.8.0;\n",
    "\n",
    "contract SimpleStorage {\n",
    "    uint public storedData;\n",
    "\n",
    "    function set(uint x) public {\n",
    "        storedData = x;\n",
    "    }\n",
    "\n",
    "    function get() public view returns (uint) {\n",
    "        return storedData;\n",
    "    }\n",
    "}\n",
    "'''"
   ]
  },
  {
   "cell_type": "code",
   "execution_count": 5,
   "id": "266d8ebe",
   "metadata": {},
   "outputs": [
    {
     "data": {
      "text/plain": [
       "<Version('0.8.28')>"
      ]
     },
     "execution_count": 5,
     "metadata": {},
     "output_type": "execute_result"
    }
   ],
   "source": [
    "# if needed, you may need to install solcx\n",
    "solcx.install_solc()"
   ]
  },
  {
   "cell_type": "code",
   "execution_count": 6,
   "id": "2927deb8",
   "metadata": {},
   "outputs": [],
   "source": [
    "# compile the contract\n",
    "compiled_sol = solcx.compile_source(contract_source_code)\n",
    "contract_interface = compiled_sol['<stdin>:SimpleStorage']"
   ]
  },
  {
   "cell_type": "code",
   "execution_count": 7,
   "id": "f188f94e",
   "metadata": {},
   "outputs": [],
   "source": [
    "# deploy the contract\n",
    "SimpleStorage = web3.eth.contract(abi=contract_interface['abi'], bytecode=contract_interface['bin'])\n",
    "tx_hash = SimpleStorage.constructor().transact({'from': account})\n",
    "tx_receipt = web3.eth.wait_for_transaction_receipt(tx_hash)\n",
    "\n",
    "# get the contract instance\n",
    "contract_address = tx_receipt.contractAddress\n",
    "simple_storage = web3.eth.contract(address=contract_address, abi=contract_interface['abi'])"
   ]
  },
  {
   "cell_type": "code",
   "execution_count": 8,
   "id": "c9ef37ca",
   "metadata": {},
   "outputs": [
    {
     "name": "stdout",
     "output_type": "stream",
     "text": [
      "Stored data in contract: 15\n"
     ]
    }
   ],
   "source": [
    "# interact with the contract\n",
    "simple_storage.functions.set(15).transact({'from': account})\n",
    "stored_data = simple_storage.functions.get().call()\n",
    "print(f\"Stored data in contract: {stored_data}\")"
   ]
  },
  {
   "cell_type": "code",
   "execution_count": 9,
   "id": "d5e5ab70",
   "metadata": {},
   "outputs": [
    {
     "ename": "NameError",
     "evalue": "name 'false' is not defined",
     "output_type": "error",
     "traceback": [
      "\u001b[0;31m---------------------------------------------------------------------------\u001b[0m",
      "\u001b[0;31mNameError\u001b[0m                                 Traceback (most recent call last)",
      "Cell \u001b[0;32mIn[9], line 8\u001b[0m\n\u001b[1;32m      1\u001b[0m abi \u001b[38;5;241m=\u001b[39m [\n\u001b[1;32m      2\u001b[0m \t{\n\u001b[1;32m      3\u001b[0m \t\t\u001b[38;5;124m\"\u001b[39m\u001b[38;5;124minputs\u001b[39m\u001b[38;5;124m\"\u001b[39m: [],\n\u001b[1;32m      4\u001b[0m \t\t\u001b[38;5;124m\"\u001b[39m\u001b[38;5;124mstateMutability\u001b[39m\u001b[38;5;124m\"\u001b[39m: \u001b[38;5;124m\"\u001b[39m\u001b[38;5;124mnonpayable\u001b[39m\u001b[38;5;124m\"\u001b[39m,\n\u001b[1;32m      5\u001b[0m \t\t\u001b[38;5;124m\"\u001b[39m\u001b[38;5;124mtype\u001b[39m\u001b[38;5;124m\"\u001b[39m: \u001b[38;5;124m\"\u001b[39m\u001b[38;5;124mconstructor\u001b[39m\u001b[38;5;124m\"\u001b[39m\n\u001b[1;32m      6\u001b[0m \t},\n\u001b[1;32m      7\u001b[0m \t{\n\u001b[0;32m----> 8\u001b[0m \t\t\u001b[38;5;124m\"\u001b[39m\u001b[38;5;124manonymous\u001b[39m\u001b[38;5;124m\"\u001b[39m: \u001b[43mfalse\u001b[49m,\n\u001b[1;32m      9\u001b[0m \t\t\u001b[38;5;124m\"\u001b[39m\u001b[38;5;124minputs\u001b[39m\u001b[38;5;124m\"\u001b[39m: [\n\u001b[1;32m     10\u001b[0m \t\t\t{\n\u001b[1;32m     11\u001b[0m \t\t\t\t\u001b[38;5;124m\"\u001b[39m\u001b[38;5;124mindexed\u001b[39m\u001b[38;5;124m\"\u001b[39m: true,\n\u001b[1;32m     12\u001b[0m \t\t\t\t\u001b[38;5;124m\"\u001b[39m\u001b[38;5;124minternalType\u001b[39m\u001b[38;5;124m\"\u001b[39m: \u001b[38;5;124m\"\u001b[39m\u001b[38;5;124maddress\u001b[39m\u001b[38;5;124m\"\u001b[39m,\n\u001b[1;32m     13\u001b[0m \t\t\t\t\u001b[38;5;124m\"\u001b[39m\u001b[38;5;124mname\u001b[39m\u001b[38;5;124m\"\u001b[39m: \u001b[38;5;124m\"\u001b[39m\u001b[38;5;124msender\u001b[39m\u001b[38;5;124m\"\u001b[39m,\n\u001b[1;32m     14\u001b[0m \t\t\t\t\u001b[38;5;124m\"\u001b[39m\u001b[38;5;124mtype\u001b[39m\u001b[38;5;124m\"\u001b[39m: \u001b[38;5;124m\"\u001b[39m\u001b[38;5;124maddress\u001b[39m\u001b[38;5;124m\"\u001b[39m\n\u001b[1;32m     15\u001b[0m \t\t\t},\n\u001b[1;32m     16\u001b[0m \t\t\t{\n\u001b[1;32m     17\u001b[0m \t\t\t\t\u001b[38;5;124m\"\u001b[39m\u001b[38;5;124mindexed\u001b[39m\u001b[38;5;124m\"\u001b[39m: false,\n\u001b[1;32m     18\u001b[0m \t\t\t\t\u001b[38;5;124m\"\u001b[39m\u001b[38;5;124minternalType\u001b[39m\u001b[38;5;124m\"\u001b[39m: \u001b[38;5;124m\"\u001b[39m\u001b[38;5;124mstring\u001b[39m\u001b[38;5;124m\"\u001b[39m,\n\u001b[1;32m     19\u001b[0m \t\t\t\t\u001b[38;5;124m\"\u001b[39m\u001b[38;5;124mname\u001b[39m\u001b[38;5;124m\"\u001b[39m: \u001b[38;5;124m\"\u001b[39m\u001b[38;5;124mmessage\u001b[39m\u001b[38;5;124m\"\u001b[39m,\n\u001b[1;32m     20\u001b[0m \t\t\t\t\u001b[38;5;124m\"\u001b[39m\u001b[38;5;124mtype\u001b[39m\u001b[38;5;124m\"\u001b[39m: \u001b[38;5;124m\"\u001b[39m\u001b[38;5;124mstring\u001b[39m\u001b[38;5;124m\"\u001b[39m\n\u001b[1;32m     21\u001b[0m \t\t\t}\n\u001b[1;32m     22\u001b[0m \t\t],\n\u001b[1;32m     23\u001b[0m \t\t\u001b[38;5;124m\"\u001b[39m\u001b[38;5;124mname\u001b[39m\u001b[38;5;124m\"\u001b[39m: \u001b[38;5;124m\"\u001b[39m\u001b[38;5;124mLog\u001b[39m\u001b[38;5;124m\"\u001b[39m,\n\u001b[1;32m     24\u001b[0m \t\t\u001b[38;5;124m\"\u001b[39m\u001b[38;5;124mtype\u001b[39m\u001b[38;5;124m\"\u001b[39m: \u001b[38;5;124m\"\u001b[39m\u001b[38;5;124mevent\u001b[39m\u001b[38;5;124m\"\u001b[39m\n\u001b[1;32m     25\u001b[0m \t},\n\u001b[1;32m     26\u001b[0m \t{\n\u001b[1;32m     27\u001b[0m \t\t\u001b[38;5;124m\"\u001b[39m\u001b[38;5;124minputs\u001b[39m\u001b[38;5;124m\"\u001b[39m: [],\n\u001b[1;32m     28\u001b[0m \t\t\u001b[38;5;124m\"\u001b[39m\u001b[38;5;124mname\u001b[39m\u001b[38;5;124m\"\u001b[39m: \u001b[38;5;124m\"\u001b[39m\u001b[38;5;124mavailable\u001b[39m\u001b[38;5;124m\"\u001b[39m,\n\u001b[1;32m     29\u001b[0m \t\t\u001b[38;5;124m\"\u001b[39m\u001b[38;5;124moutputs\u001b[39m\u001b[38;5;124m\"\u001b[39m: [\n\u001b[1;32m     30\u001b[0m \t\t\t{\n\u001b[1;32m     31\u001b[0m \t\t\t\t\u001b[38;5;124m\"\u001b[39m\u001b[38;5;124minternalType\u001b[39m\u001b[38;5;124m\"\u001b[39m: \u001b[38;5;124m\"\u001b[39m\u001b[38;5;124mbool\u001b[39m\u001b[38;5;124m\"\u001b[39m,\n\u001b[1;32m     32\u001b[0m \t\t\t\t\u001b[38;5;124m\"\u001b[39m\u001b[38;5;124mname\u001b[39m\u001b[38;5;124m\"\u001b[39m: \u001b[38;5;124m\"\u001b[39m\u001b[38;5;124m\"\u001b[39m,\n\u001b[1;32m     33\u001b[0m \t\t\t\t\u001b[38;5;124m\"\u001b[39m\u001b[38;5;124mtype\u001b[39m\u001b[38;5;124m\"\u001b[39m: \u001b[38;5;124m\"\u001b[39m\u001b[38;5;124mbool\u001b[39m\u001b[38;5;124m\"\u001b[39m\n\u001b[1;32m     34\u001b[0m \t\t\t}\n\u001b[1;32m     35\u001b[0m \t\t],\n\u001b[1;32m     36\u001b[0m \t\t\u001b[38;5;124m\"\u001b[39m\u001b[38;5;124mstateMutability\u001b[39m\u001b[38;5;124m\"\u001b[39m: \u001b[38;5;124m\"\u001b[39m\u001b[38;5;124mview\u001b[39m\u001b[38;5;124m\"\u001b[39m,\n\u001b[1;32m     37\u001b[0m \t\t\u001b[38;5;124m\"\u001b[39m\u001b[38;5;124mtype\u001b[39m\u001b[38;5;124m\"\u001b[39m: \u001b[38;5;124m\"\u001b[39m\u001b[38;5;124mfunction\u001b[39m\u001b[38;5;124m\"\u001b[39m\n\u001b[1;32m     38\u001b[0m \t},\n\u001b[1;32m     39\u001b[0m \t{\n\u001b[1;32m     40\u001b[0m \t\t\u001b[38;5;124m\"\u001b[39m\u001b[38;5;124minputs\u001b[39m\u001b[38;5;124m\"\u001b[39m: [\n\u001b[1;32m     41\u001b[0m \t\t\t{\n\u001b[1;32m     42\u001b[0m \t\t\t\t\u001b[38;5;124m\"\u001b[39m\u001b[38;5;124minternalType\u001b[39m\u001b[38;5;124m\"\u001b[39m: \u001b[38;5;124m\"\u001b[39m\u001b[38;5;124muint256\u001b[39m\u001b[38;5;124m\"\u001b[39m,\n\u001b[1;32m     43\u001b[0m \t\t\t\t\u001b[38;5;124m\"\u001b[39m\u001b[38;5;124mname\u001b[39m\u001b[38;5;124m\"\u001b[39m: \u001b[38;5;124m\"\u001b[39m\u001b[38;5;124mnumDays\u001b[39m\u001b[38;5;124m\"\u001b[39m,\n\u001b[1;32m     44\u001b[0m \t\t\t\t\u001b[38;5;124m\"\u001b[39m\u001b[38;5;124mtype\u001b[39m\u001b[38;5;124m\"\u001b[39m: \u001b[38;5;124m\"\u001b[39m\u001b[38;5;124muint256\u001b[39m\u001b[38;5;124m\"\u001b[39m\n\u001b[1;32m     45\u001b[0m \t\t\t}\n\u001b[1;32m     46\u001b[0m \t\t],\n\u001b[1;32m     47\u001b[0m \t\t\u001b[38;5;124m\"\u001b[39m\u001b[38;5;124mname\u001b[39m\u001b[38;5;124m\"\u001b[39m: \u001b[38;5;124m\"\u001b[39m\u001b[38;5;124mbookYacht\u001b[39m\u001b[38;5;124m\"\u001b[39m,\n\u001b[1;32m     48\u001b[0m \t\t\u001b[38;5;124m\"\u001b[39m\u001b[38;5;124moutputs\u001b[39m\u001b[38;5;124m\"\u001b[39m: [],\n\u001b[1;32m     49\u001b[0m \t\t\u001b[38;5;124m\"\u001b[39m\u001b[38;5;124mstateMutability\u001b[39m\u001b[38;5;124m\"\u001b[39m: \u001b[38;5;124m\"\u001b[39m\u001b[38;5;124mpayable\u001b[39m\u001b[38;5;124m\"\u001b[39m,\n\u001b[1;32m     50\u001b[0m \t\t\u001b[38;5;124m\"\u001b[39m\u001b[38;5;124mtype\u001b[39m\u001b[38;5;124m\"\u001b[39m: \u001b[38;5;124m\"\u001b[39m\u001b[38;5;124mfunction\u001b[39m\u001b[38;5;124m\"\u001b[39m\n\u001b[1;32m     51\u001b[0m \t},\n\u001b[1;32m     52\u001b[0m \t{\n\u001b[1;32m     53\u001b[0m \t\t\u001b[38;5;124m\"\u001b[39m\u001b[38;5;124minputs\u001b[39m\u001b[38;5;124m\"\u001b[39m: [],\n\u001b[1;32m     54\u001b[0m \t\t\u001b[38;5;124m\"\u001b[39m\u001b[38;5;124mname\u001b[39m\u001b[38;5;124m\"\u001b[39m: \u001b[38;5;124m\"\u001b[39m\u001b[38;5;124mmakeYachtAvailable\u001b[39m\u001b[38;5;124m\"\u001b[39m,\n\u001b[1;32m     55\u001b[0m \t\t\u001b[38;5;124m\"\u001b[39m\u001b[38;5;124moutputs\u001b[39m\u001b[38;5;124m\"\u001b[39m: [],\n\u001b[1;32m     56\u001b[0m \t\t\u001b[38;5;124m\"\u001b[39m\u001b[38;5;124mstateMutability\u001b[39m\u001b[38;5;124m\"\u001b[39m: \u001b[38;5;124m\"\u001b[39m\u001b[38;5;124mnonpayable\u001b[39m\u001b[38;5;124m\"\u001b[39m,\n\u001b[1;32m     57\u001b[0m \t\t\u001b[38;5;124m\"\u001b[39m\u001b[38;5;124mtype\u001b[39m\u001b[38;5;124m\"\u001b[39m: \u001b[38;5;124m\"\u001b[39m\u001b[38;5;124mfunction\u001b[39m\u001b[38;5;124m\"\u001b[39m\n\u001b[1;32m     58\u001b[0m \t},\n\u001b[1;32m     59\u001b[0m \t{\n\u001b[1;32m     60\u001b[0m \t\t\u001b[38;5;124m\"\u001b[39m\u001b[38;5;124minputs\u001b[39m\u001b[38;5;124m\"\u001b[39m: [],\n\u001b[1;32m     61\u001b[0m \t\t\u001b[38;5;124m\"\u001b[39m\u001b[38;5;124mname\u001b[39m\u001b[38;5;124m\"\u001b[39m: \u001b[38;5;124m\"\u001b[39m\u001b[38;5;124mowner\u001b[39m\u001b[38;5;124m\"\u001b[39m,\n\u001b[1;32m     62\u001b[0m \t\t\u001b[38;5;124m\"\u001b[39m\u001b[38;5;124moutputs\u001b[39m\u001b[38;5;124m\"\u001b[39m: [\n\u001b[1;32m     63\u001b[0m \t\t\t{\n\u001b[1;32m     64\u001b[0m \t\t\t\t\u001b[38;5;124m\"\u001b[39m\u001b[38;5;124minternalType\u001b[39m\u001b[38;5;124m\"\u001b[39m: \u001b[38;5;124m\"\u001b[39m\u001b[38;5;124maddress payable\u001b[39m\u001b[38;5;124m\"\u001b[39m,\n\u001b[1;32m     65\u001b[0m \t\t\t\t\u001b[38;5;124m\"\u001b[39m\u001b[38;5;124mname\u001b[39m\u001b[38;5;124m\"\u001b[39m: \u001b[38;5;124m\"\u001b[39m\u001b[38;5;124m\"\u001b[39m,\n\u001b[1;32m     66\u001b[0m \t\t\t\t\u001b[38;5;124m\"\u001b[39m\u001b[38;5;124mtype\u001b[39m\u001b[38;5;124m\"\u001b[39m: \u001b[38;5;124m\"\u001b[39m\u001b[38;5;124maddress\u001b[39m\u001b[38;5;124m\"\u001b[39m\n\u001b[1;32m     67\u001b[0m \t\t\t}\n\u001b[1;32m     68\u001b[0m \t\t],\n\u001b[1;32m     69\u001b[0m \t\t\u001b[38;5;124m\"\u001b[39m\u001b[38;5;124mstateMutability\u001b[39m\u001b[38;5;124m\"\u001b[39m: \u001b[38;5;124m\"\u001b[39m\u001b[38;5;124mview\u001b[39m\u001b[38;5;124m\"\u001b[39m,\n\u001b[1;32m     70\u001b[0m \t\t\u001b[38;5;124m\"\u001b[39m\u001b[38;5;124mtype\u001b[39m\u001b[38;5;124m\"\u001b[39m: \u001b[38;5;124m\"\u001b[39m\u001b[38;5;124mfunction\u001b[39m\u001b[38;5;124m\"\u001b[39m\n\u001b[1;32m     71\u001b[0m \t},\n\u001b[1;32m     72\u001b[0m \t{\n\u001b[1;32m     73\u001b[0m \t\t\u001b[38;5;124m\"\u001b[39m\u001b[38;5;124minputs\u001b[39m\u001b[38;5;124m\"\u001b[39m: [],\n\u001b[1;32m     74\u001b[0m \t\t\u001b[38;5;124m\"\u001b[39m\u001b[38;5;124mname\u001b[39m\u001b[38;5;124m\"\u001b[39m: \u001b[38;5;124m\"\u001b[39m\u001b[38;5;124mratePerDay\u001b[39m\u001b[38;5;124m\"\u001b[39m,\n\u001b[1;32m     75\u001b[0m \t\t\u001b[38;5;124m\"\u001b[39m\u001b[38;5;124moutputs\u001b[39m\u001b[38;5;124m\"\u001b[39m: [\n\u001b[1;32m     76\u001b[0m \t\t\t{\n\u001b[1;32m     77\u001b[0m \t\t\t\t\u001b[38;5;124m\"\u001b[39m\u001b[38;5;124minternalType\u001b[39m\u001b[38;5;124m\"\u001b[39m: \u001b[38;5;124m\"\u001b[39m\u001b[38;5;124muint256\u001b[39m\u001b[38;5;124m\"\u001b[39m,\n\u001b[1;32m     78\u001b[0m \t\t\t\t\u001b[38;5;124m\"\u001b[39m\u001b[38;5;124mname\u001b[39m\u001b[38;5;124m\"\u001b[39m: \u001b[38;5;124m\"\u001b[39m\u001b[38;5;124m\"\u001b[39m,\n\u001b[1;32m     79\u001b[0m \t\t\t\t\u001b[38;5;124m\"\u001b[39m\u001b[38;5;124mtype\u001b[39m\u001b[38;5;124m\"\u001b[39m: \u001b[38;5;124m\"\u001b[39m\u001b[38;5;124muint256\u001b[39m\u001b[38;5;124m\"\u001b[39m\n\u001b[1;32m     80\u001b[0m \t\t\t}\n\u001b[1;32m     81\u001b[0m \t\t],\n\u001b[1;32m     82\u001b[0m \t\t\u001b[38;5;124m\"\u001b[39m\u001b[38;5;124mstateMutability\u001b[39m\u001b[38;5;124m\"\u001b[39m: \u001b[38;5;124m\"\u001b[39m\u001b[38;5;124mview\u001b[39m\u001b[38;5;124m\"\u001b[39m,\n\u001b[1;32m     83\u001b[0m \t\t\u001b[38;5;124m\"\u001b[39m\u001b[38;5;124mtype\u001b[39m\u001b[38;5;124m\"\u001b[39m: \u001b[38;5;124m\"\u001b[39m\u001b[38;5;124mfunction\u001b[39m\u001b[38;5;124m\"\u001b[39m\n\u001b[1;32m     84\u001b[0m \t},\n\u001b[1;32m     85\u001b[0m \t{\n\u001b[1;32m     86\u001b[0m \t\t\u001b[38;5;124m\"\u001b[39m\u001b[38;5;124minputs\u001b[39m\u001b[38;5;124m\"\u001b[39m: [\n\u001b[1;32m     87\u001b[0m \t\t\t{\n\u001b[1;32m     88\u001b[0m \t\t\t\t\u001b[38;5;124m\"\u001b[39m\u001b[38;5;124minternalType\u001b[39m\u001b[38;5;124m\"\u001b[39m: \u001b[38;5;124m\"\u001b[39m\u001b[38;5;124muint256\u001b[39m\u001b[38;5;124m\"\u001b[39m,\n\u001b[1;32m     89\u001b[0m \t\t\t\t\u001b[38;5;124m\"\u001b[39m\u001b[38;5;124mname\u001b[39m\u001b[38;5;124m\"\u001b[39m: \u001b[38;5;124m\"\u001b[39m\u001b[38;5;124mnewRate\u001b[39m\u001b[38;5;124m\"\u001b[39m,\n\u001b[1;32m     90\u001b[0m \t\t\t\t\u001b[38;5;124m\"\u001b[39m\u001b[38;5;124mtype\u001b[39m\u001b[38;5;124m\"\u001b[39m: \u001b[38;5;124m\"\u001b[39m\u001b[38;5;124muint256\u001b[39m\u001b[38;5;124m\"\u001b[39m\n\u001b[1;32m     91\u001b[0m \t\t\t}\n\u001b[1;32m     92\u001b[0m \t\t],\n\u001b[1;32m     93\u001b[0m \t\t\u001b[38;5;124m\"\u001b[39m\u001b[38;5;124mname\u001b[39m\u001b[38;5;124m\"\u001b[39m: \u001b[38;5;124m\"\u001b[39m\u001b[38;5;124mupdateRate\u001b[39m\u001b[38;5;124m\"\u001b[39m,\n\u001b[1;32m     94\u001b[0m \t\t\u001b[38;5;124m\"\u001b[39m\u001b[38;5;124moutputs\u001b[39m\u001b[38;5;124m\"\u001b[39m: [],\n\u001b[1;32m     95\u001b[0m \t\t\u001b[38;5;124m\"\u001b[39m\u001b[38;5;124mstateMutability\u001b[39m\u001b[38;5;124m\"\u001b[39m: \u001b[38;5;124m\"\u001b[39m\u001b[38;5;124mnonpayable\u001b[39m\u001b[38;5;124m\"\u001b[39m,\n\u001b[1;32m     96\u001b[0m \t\t\u001b[38;5;124m\"\u001b[39m\u001b[38;5;124mtype\u001b[39m\u001b[38;5;124m\"\u001b[39m: \u001b[38;5;124m\"\u001b[39m\u001b[38;5;124mfunction\u001b[39m\u001b[38;5;124m\"\u001b[39m\n\u001b[1;32m     97\u001b[0m \t}\n\u001b[1;32m     98\u001b[0m ]\n",
      "\u001b[0;31mNameError\u001b[0m: name 'false' is not defined"
     ]
    }
   ],
   "source": [
    "abi = [\n",
    "\t{\n",
    "\t\t\"inputs\": [],\n",
    "\t\t\"stateMutability\": \"nonpayable\",\n",
    "\t\t\"type\": \"constructor\"\n",
    "\t},\n",
    "\t{\n",
    "\t\t\"anonymous\": false,\n",
    "\t\t\"inputs\": [\n",
    "\t\t\t{\n",
    "\t\t\t\t\"indexed\": true,\n",
    "\t\t\t\t\"internalType\": \"address\",\n",
    "\t\t\t\t\"name\": \"sender\",\n",
    "\t\t\t\t\"type\": \"address\"\n",
    "\t\t\t},\n",
    "\t\t\t{\n",
    "\t\t\t\t\"indexed\": false,\n",
    "\t\t\t\t\"internalType\": \"string\",\n",
    "\t\t\t\t\"name\": \"message\",\n",
    "\t\t\t\t\"type\": \"string\"\n",
    "\t\t\t}\n",
    "\t\t],\n",
    "\t\t\"name\": \"Log\",\n",
    "\t\t\"type\": \"event\"\n",
    "\t},\n",
    "\t{\n",
    "\t\t\"inputs\": [],\n",
    "\t\t\"name\": \"available\",\n",
    "\t\t\"outputs\": [\n",
    "\t\t\t{\n",
    "\t\t\t\t\"internalType\": \"bool\",\n",
    "\t\t\t\t\"name\": \"\",\n",
    "\t\t\t\t\"type\": \"bool\"\n",
    "\t\t\t}\n",
    "\t\t],\n",
    "\t\t\"stateMutability\": \"view\",\n",
    "\t\t\"type\": \"function\"\n",
    "\t},\n",
    "\t{\n",
    "\t\t\"inputs\": [\n",
    "\t\t\t{\n",
    "\t\t\t\t\"internalType\": \"uint256\",\n",
    "\t\t\t\t\"name\": \"numDays\",\n",
    "\t\t\t\t\"type\": \"uint256\"\n",
    "\t\t\t}\n",
    "\t\t],\n",
    "\t\t\"name\": \"bookYacht\",\n",
    "\t\t\"outputs\": [],\n",
    "\t\t\"stateMutability\": \"payable\",\n",
    "\t\t\"type\": \"function\"\n",
    "\t},\n",
    "\t{\n",
    "\t\t\"inputs\": [],\n",
    "\t\t\"name\": \"makeYachtAvailable\",\n",
    "\t\t\"outputs\": [],\n",
    "\t\t\"stateMutability\": \"nonpayable\",\n",
    "\t\t\"type\": \"function\"\n",
    "\t},\n",
    "\t{\n",
    "\t\t\"inputs\": [],\n",
    "\t\t\"name\": \"owner\",\n",
    "\t\t\"outputs\": [\n",
    "\t\t\t{\n",
    "\t\t\t\t\"internalType\": \"address payable\",\n",
    "\t\t\t\t\"name\": \"\",\n",
    "\t\t\t\t\"type\": \"address\"\n",
    "\t\t\t}\n",
    "\t\t],\n",
    "\t\t\"stateMutability\": \"view\",\n",
    "\t\t\"type\": \"function\"\n",
    "\t},\n",
    "\t{\n",
    "\t\t\"inputs\": [],\n",
    "\t\t\"name\": \"ratePerDay\",\n",
    "\t\t\"outputs\": [\n",
    "\t\t\t{\n",
    "\t\t\t\t\"internalType\": \"uint256\",\n",
    "\t\t\t\t\"name\": \"\",\n",
    "\t\t\t\t\"type\": \"uint256\"\n",
    "\t\t\t}\n",
    "\t\t],\n",
    "\t\t\"stateMutability\": \"view\",\n",
    "\t\t\"type\": \"function\"\n",
    "\t},\n",
    "\t{\n",
    "\t\t\"inputs\": [\n",
    "\t\t\t{\n",
    "\t\t\t\t\"internalType\": \"uint256\",\n",
    "\t\t\t\t\"name\": \"newRate\",\n",
    "\t\t\t\t\"type\": \"uint256\"\n",
    "\t\t\t}\n",
    "\t\t],\n",
    "\t\t\"name\": \"updateRate\",\n",
    "\t\t\"outputs\": [],\n",
    "\t\t\"stateMutability\": \"nonpayable\",\n",
    "\t\t\"type\": \"function\"\n",
    "\t}\n",
    "]"
   ]
  },
  {
   "cell_type": "code",
   "execution_count": null,
   "id": "adaea88a",
   "metadata": {},
   "outputs": [],
   "source": []
  }
 ],
 "metadata": {
  "kernelspec": {
   "display_name": "ganache_example",
   "language": "python",
   "name": "ganache_example"
  },
  "language_info": {
   "codemirror_mode": {
    "name": "ipython",
    "version": 3
   },
   "file_extension": ".py",
   "mimetype": "text/x-python",
   "name": "python",
   "nbconvert_exporter": "python",
   "pygments_lexer": "ipython3",
   "version": "3.12.4"
  }
 },
 "nbformat": 4,
 "nbformat_minor": 5
}
