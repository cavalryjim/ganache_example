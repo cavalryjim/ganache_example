{
 "cells": [
  {
   "cell_type": "code",
   "execution_count": 23,
   "id": "430052d1",
   "metadata": {},
   "outputs": [
    {
     "name": "stdout",
     "output_type": "stream",
     "text": [
      "Connected to the local Ethereum (Ganche) network: True\n"
     ]
    }
   ],
   "source": [
    "from web3 import Web3\n",
    "import solcx\n",
    "\n",
    "# connect to the Ganache blockchain\n",
    "ganache_url = \"http://127.0.0.1:8545\"\n",
    "web3 = Web3(Web3.HTTPProvider(ganache_url))\n",
    "\n",
    "# check if the connection is successful\n",
    "print(f\"Connected to the local Ethereum (Ganche) network: {web3.is_connected()}\")"
   ]
  },
  {
   "cell_type": "code",
   "execution_count": 24,
   "id": "a2475490",
   "metadata": {},
   "outputs": [
    {
     "name": "stdout",
     "output_type": "stream",
     "text": [
      "Balance of account 0: 994.998532515928623813 Ether\n",
      "Transaction completed!\n"
     ]
    }
   ],
   "source": [
    "# get the first account\n",
    "account = web3.eth.accounts[0]\n",
    "\n",
    "# check the balance\n",
    "balance = web3.eth.get_balance(account)\n",
    "print(f\"Balance of account 0: {web3.from_wei(balance, 'ether')} Ether\")\n",
    "\n",
    "# send a transaction from one account to another\n",
    "tx_hash = web3.eth.send_transaction({\n",
    "    'from': web3.eth.accounts[0],\n",
    "    'to': web3.eth.accounts[1],\n",
    "    'value': web3.to_wei(1, 'ether')\n",
    "})\n",
    "\n",
    "# wait for the transaction to be mined\n",
    "web3.eth.wait_for_transaction_receipt(tx_hash)\n",
    "print(\"Transaction completed!\")"
   ]
  },
  {
   "cell_type": "code",
   "execution_count": 25,
   "id": "79dd3bb0",
   "metadata": {},
   "outputs": [],
   "source": [
    "# basic Solidity contract\n",
    "contract_source_code = '''\n",
    "pragma solidity ^0.8.0;\n",
    "\n",
    "contract SimpleStorage {\n",
    "    uint public storedData;\n",
    "\n",
    "    function set(uint x) public {\n",
    "        storedData = x;\n",
    "    }\n",
    "\n",
    "    function get() public view returns (uint) {\n",
    "        return storedData;\n",
    "    }\n",
    "}\n",
    "'''"
   ]
  },
  {
   "cell_type": "code",
   "execution_count": 26,
   "id": "266d8ebe",
   "metadata": {},
   "outputs": [
    {
     "data": {
      "text/plain": [
       "<Version('0.8.26')>"
      ]
     },
     "execution_count": 26,
     "metadata": {},
     "output_type": "execute_result"
    }
   ],
   "source": [
    "# if needed, you may need to install solcx\n",
    "solcx.install_solc()"
   ]
  },
  {
   "cell_type": "code",
   "execution_count": 27,
   "id": "2927deb8",
   "metadata": {},
   "outputs": [],
   "source": [
    "# compile the contract\n",
    "compiled_sol = solcx.compile_source(contract_source_code)\n",
    "contract_interface = compiled_sol['<stdin>:SimpleStorage']"
   ]
  },
  {
   "cell_type": "code",
   "execution_count": 28,
   "id": "f188f94e",
   "metadata": {},
   "outputs": [],
   "source": [
    "# deploy the contract\n",
    "SimpleStorage = web3.eth.contract(abi=contract_interface['abi'], bytecode=contract_interface['bin'])\n",
    "tx_hash = SimpleStorage.constructor().transact({'from': account})\n",
    "tx_receipt = web3.eth.wait_for_transaction_receipt(tx_hash)\n",
    "\n",
    "# get the contract instance\n",
    "contract_address = tx_receipt.contractAddress\n",
    "simple_storage = web3.eth.contract(address=contract_address, abi=contract_interface['abi'])"
   ]
  },
  {
   "cell_type": "code",
   "execution_count": 29,
   "id": "c9ef37ca",
   "metadata": {},
   "outputs": [
    {
     "name": "stdout",
     "output_type": "stream",
     "text": [
      "Stored data in contract: 15\n"
     ]
    }
   ],
   "source": [
    "# interact with the contract\n",
    "simple_storage.functions.set(15).transact({'from': account})\n",
    "stored_data = simple_storage.functions.get().call()\n",
    "print(f\"Stored data in contract: {stored_data}\")"
   ]
  }
 ],
 "metadata": {
  "kernelspec": {
   "display_name": "ganache_example",
   "language": "python",
   "name": "ganache_example"
  },
  "language_info": {
   "codemirror_mode": {
    "name": "ipython",
    "version": 3
   },
   "file_extension": ".py",
   "mimetype": "text/x-python",
   "name": "python",
   "nbconvert_exporter": "python",
   "pygments_lexer": "ipython3",
   "version": "3.12.4"
  }
 },
 "nbformat": 4,
 "nbformat_minor": 5
}
